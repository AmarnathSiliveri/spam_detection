{
  "nbformat": 4,
  "nbformat_minor": 0,
  "metadata": {
    "colab": {
      "provenance": [],
      "authorship_tag": "ABX9TyN/DiNyE34Tc3eGbMidmJgZ",
      "include_colab_link": true
    },
    "kernelspec": {
      "name": "python3",
      "display_name": "Python 3"
    },
    "language_info": {
      "name": "python"
    }
  },
  "cells": [
    {
      "cell_type": "markdown",
      "metadata": {
        "id": "view-in-github",
        "colab_type": "text"
      },
      "source": [
        "<a href=\"https://colab.research.google.com/github/SilverStark18/spam_detection/blob/main/spam_detection.ipynb\" target=\"_parent\"><img src=\"https://colab.research.google.com/assets/colab-badge.svg\" alt=\"Open In Colab\"/></a>"
      ]
    },
    {
      "cell_type": "code",
      "execution_count": null,
      "metadata": {
        "colab": {
          "base_uri": "https://localhost:8080/"
        },
        "id": "VUN1QCI01Jvf",
        "outputId": "dc261229-7283-43c9-b429-f25ac4dfb989"
      },
      "outputs": [
        {
          "output_type": "stream",
          "name": "stdout",
          "text": [
            "\n",
            "\tEnter a comment:----------->  hlo\n",
            "\n",
            "\tPrediction:---------------------------------> Not Spam\n"
          ]
        }
      ],
      "source": [
        "import pandas as pd\n",
        "import numpy as np\n",
        "from sklearn.feature_extraction.text import CountVectorizer\n",
        "from sklearn.model_selection import train_test_split\n",
        "from sklearn.naive_bayes import BernoulliNB\n",
        "\n",
        "# Read each CSV file into a DataFrame\n",
        "df1 = pd.read_csv(\"Youtube01-Psy.csv\")\n",
        "df2 = pd.read_csv(\"Youtube02-KatyPerry.csv\")\n",
        "df3 = pd.read_csv(\"Youtube03-LMFAO.csv\")\n",
        "df4 = pd.read_csv(\"Youtube04-Eminem.csv\")\n",
        "df5 = pd.read_csv(\"Youtube05-Shakira.csv\")\n",
        "\n",
        "# Concatenate the DataFrames into a single DataFrame\n",
        "data = pd.concat([df1, df2, df3, df4, df5], ignore_index=True)\n",
        "\n",
        "# Preprocessing\n",
        "data = data[[\"CONTENT\", \"CLASS\"]]\n",
        "data[\"CLASS\"] = data[\"CLASS\"].map({0: \"Not Spam\", 1: \"Spam Comment\"})\n",
        "\n",
        "# Model Training\n",
        "x = np.array(data[\"CONTENT\"])\n",
        "y = np.array(data[\"CLASS\"])\n",
        "\n",
        "cv = CountVectorizer()\n",
        "x = cv.fit_transform(x)\n",
        "xtrain, xtest, ytrain, ytest = train_test_split(x, y, test_size=0.33, random_state=42)\n",
        "\n",
        "model = BernoulliNB()\n",
        "model.fit(xtrain, ytrain)\n",
        "\n",
        "# Example comment for prediction\n",
        "def predict_spam(sample_comment):\n",
        "  comment_data = cv.transform([sample_comment]).toarray()\n",
        "  prediction = model.predict(comment_data)\n",
        "  return prediction[0]\n",
        "\n",
        "sample_comment = input(\"\\n\\tEnter a comment:----------->  \")\n",
        "print(\"\\n\\tPrediction:--------------------------------->\",  predict_spam(sample_comment))\n"
      ]
    },
    {
      "cell_type": "code",
      "source": [],
      "metadata": {
        "id": "8bT7QOcn420n"
      },
      "execution_count": null,
      "outputs": []
    }
  ]
}